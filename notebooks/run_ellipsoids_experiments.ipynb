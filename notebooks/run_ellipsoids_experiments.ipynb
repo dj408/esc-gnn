{
 "cells": [
  {
   "cell_type": "markdown",
   "id": "dd434032",
   "metadata": {},
   "source": [
    "# Ellipsoids equivariant scattering GNN experiments"
   ]
  },
  {
   "cell_type": "markdown",
   "id": "d317d33f",
   "metadata": {},
   "source": [
    "## Generate data"
   ]
  },
  {
   "cell_type": "code",
   "execution_count": null,
   "id": "5ecd8292",
   "metadata": {},
   "outputs": [],
   "source": [
    "! python3.11 /scripts/python/generate_ellipsoid_dataset.py \\\n",
    "    --save_dir \"<WORKING_DIR>/data/ellipsoids/\" \\\n",
    "    --config /config/yaml_files/ellipsoids/experiment.yaml \\\n",
    "    --pq_h5_name pq_tensor_data_512.h5 \\\n",
    "    --random_seed 457892 \\\n",
    "    --num_samples 512 \\\n",
    "    --num_nodes_per_graph 128 \\\n",
    "    --knn_graph_k 5 \\\n",
    "    --abc_means 3.0 1.0 1.0 \\\n",
    "    --abc_stdevs 0.5 0.2 0.2 \\\n",
    "    --local_pca_kernel_fn gaussian \\\n",
    "    --laplacian_type sym_norm \\\n",
    "    --num_oversample_points 1024 \\\n",
    "    --k_laplacian 10 \\\n",
    "    --dirac_types max min \\\n",
    "    --modulation_scale 0.9 \\\n",
    "    --harmonic_bands 1-3,6-8,10-12 \\\n",
    "    --harmonic_band_weights 1.0 1.5 2.0 \\\n",
    "    --global_band_index 1 \\\n",
    "    --random_harmonic_k 16 \\\n",
    "    --random_harmonic_coeff_bounds 1.0 2.0 \\\n",
    "    --random_harmonic_smoothing_window 0 \\\n",
    "    --sing_vect_align_method column_dot\n",
    "\n",
    "   python3 ../scripts/python/generate_ellipsoid_dataset.py \\\n",
    "    --save_dir \"<WORKING_DIR>/data/ellipsoids/\" \\\n",
    "    --config ../config/yaml_files/ellipsoids/experiment.yaml \\\n",
    "    --pq_h5_name pq_tensor_data_512.h5 \\\n",
    "    --random_seed 457892 \\\n",
    "    --num_samples 512 \\\n",
    "    --num_nodes_per_graph 128 \\\n",
    "    --knn_graph_k 5 \\\n",
    "    --abc_means 3.0 1.0 1.0 \\\n",
    "    --abc_stdevs 0.5 0.2 0.2 \\\n",
    "    --local_pca_kernel_fn gaussian \\\n",
    "    --laplacian_type sym_norm \\\n",
    "    --num_oversample_points 1024 \\\n",
    "    --k_laplacian 10 \\\n",
    "    --dirac_types max min \\\n",
    "    --modulation_scale 0.9 \\\n",
    "    --harmonic_bands 1-3,6-8,10-12 \\\n",
    "    --harmonic_band_weights 1.0 1.5 2.0 \\\n",
    "    --global_band_index 1 \\\n",
    "    --random_harmonic_k 16 \\\n",
    "    --random_harmonic_coeff_bounds 1.0 2.0 \\\n",
    "    --random_harmonic_smoothing_window 0 \\\n",
    "    --sing_vect_align_method column_dot\n",
    "\n"
   ]
  },
  {
   "cell_type": "code",
   "execution_count": null,
   "id": "50a5486c",
   "metadata": {},
   "outputs": [],
   "source": [
    "# Open dataset and inspect a sample\n",
    "import pickle\n",
    "import sys\n",
    "sys.path.append(\"\")\n",
    "from data_processing.ellipsoid_data_classes import EllipsoidDataset\n",
    "\n",
    "pkl_path = \"<WORKING_DIR>/data/ellipsoids/ellipsoid_dataset_512.pkl\"\n",
    "\n",
    "with open(pkl_path, \"rb\") as f:\n",
    "    dataset = pickle.load(f)\n",
    "\n",
    "print(dataset[0])\n",
    "# print(dataset[0].y_node)"
   ]
  },
  {
   "cell_type": "markdown",
   "id": "9c12c752",
   "metadata": {},
   "source": [
    "## Infogain Wavelet scales"
   ]
  },
  {
   "cell_type": "markdown",
   "id": "0d32dcb2",
   "metadata": {},
   "source": [
    "### Scalar track"
   ]
  },
  {
   "cell_type": "code",
   "execution_count": null,
   "id": "4e558e58",
   "metadata": {},
   "outputs": [],
   "source": [
    "! python3.11 /scripts/python/compute_infogain_scales.py \\\n",
    "    --config /config/yaml_files/ellipsoids/experiment.yaml \\\n",
    "    --h5_path <WORKING_DIR>/data/ellipsoids/pq_tensor_data_512.h5 \\\n",
    "    --output_dir <WORKING_DIR>/data/ellipsoids/infogain_scales/ \\\n",
    "    --track scalar \\\n",
    "    --feat_key x \\\n",
    "    --T 16 \\\n",
    "    --quantiles 0.25 0.5 0.75 \\\n",
    "    --divergence l1 \\\n",
    "    --device cuda"
   ]
  },
  {
   "cell_type": "markdown",
   "id": "4181b68d",
   "metadata": {},
   "source": [
    "### Vector track"
   ]
  },
  {
   "cell_type": "code",
   "execution_count": null,
   "id": "84e6d71b",
   "metadata": {},
   "outputs": [],
   "source": [
    "! python3.11 /scripts/python/compute_infogain_scales.py \\\n",
    "    --config /config/yaml_files/ellipsoids/experiment.yaml \\\n",
    "    --h5_path <WORKING_DIR>/data/ellipsoids/pq_tensor_data_512.h5 \\\n",
    "    --output_dir <WORKING_DIR>/data/ellipsoids/infogain_scales/ \\\n",
    "    --track vector \\\n",
    "    --feat_key pos \\\n",
    "    --T 16 \\\n",
    "    --quantiles 0.25 0.5 0.75 \\\n",
    "    --divergence l1 \\\n",
    "    --device cuda"
   ]
  },
  {
   "cell_type": "markdown",
   "id": "ea555fd2",
   "metadata": {},
   "source": [
    "## Graph regression tasks"
   ]
  },
  {
   "cell_type": "markdown",
   "id": "8d8f9182",
   "metadata": {},
   "source": [
    "### Diameter estimation"
   ]
  },
  {
   "cell_type": "markdown",
   "id": "e2b70e3f",
   "metadata": {},
   "source": [
    "#### 5-fold CV example"
   ]
  },
  {
   "cell_type": "code",
   "execution_count": null,
   "id": "eaa339be",
   "metadata": {},
   "outputs": [],
   "source": [
    "! python3.11 ../scripts/python/main_training.py \\\n",
    "  --config_path ../config/yaml_files/ellipsoids/gcn.yaml \\\n",
    "  --dataset ellipsoids \\\n",
    "  --experiment_type kfold \\\n",
    "  --k_folds 5 \\\n",
    "  --n_epochs 16"
   ]
  },
  {
   "cell_type": "code",
   "execution_count": null,
   "id": "9cd773f5",
   "metadata": {},
   "outputs": [],
   "source": [
    "! python3.11 /scripts/python/summarize_experiments.py \\\n",
    "  --exp_dirs <WORKING_DIR>/experiments/ellipsoids/cv_test \\\n",
    "  --metrics mse \\\n",
    "  --agg mean \\\n",
    "  --decimals 4 \\\n",
    "  --out_tex <WORKING_DIR>/experiments/ellipsoids/cv_test/median_results_table.tex"
   ]
  },
  {
   "cell_type": "markdown",
   "id": "cf22ab29",
   "metadata": {},
   "source": [
    "#### Non-equivariant model\n",
    "\n",
    "- Note that this model can learn an invariant prediction if not using --invariant_pred (i.e., using the 'agg' readout instead of 'mlp')..."
   ]
  },
  {
   "cell_type": "code",
   "execution_count": null,
   "id": "84390a2e",
   "metadata": {},
   "outputs": [],
   "source": [
    "! python3.11 ../scripts/python/main_training.py \\\n",
    "    --config=../config/yaml_files/ellipsoids/escgnn.yaml \\\n",
    "    --use_dirac_nodes \\\n",
    "    --ablate_vector_track \\\n",
    "    --invariant_pred"
   ]
  },
  {
   "cell_type": "markdown",
   "id": "f9d63d0b",
   "metadata": {},
   "source": [
    "#### Equivariant model\n",
    "\n",
    "- With both scalar and vector features pointing to 'pos' attribute of Data objects, we need to include --scalar_feat_key (set to something besides 'pos') when using Diracs in order for them to be added as scalar features."
   ]
  },
  {
   "cell_type": "code",
   "execution_count": null,
   "id": "ffb3cce2",
   "metadata": {},
   "outputs": [],
   "source": [
    "! python3.11 ../scripts/python/main_training.py \\\n",
    "    --config=../config/yaml_files/ellipsoids/escgnn.yaml \\\n",
    "    --use_dirac_nodes \\\n",
    "    --scalar_feat_key x \\\n",
    "    --invariant_pred"
   ]
  },
  {
   "cell_type": "markdown",
   "id": "7122a63f",
   "metadata": {},
   "source": [
    "#### EGNN"
   ]
  },
  {
   "cell_type": "code",
   "execution_count": null,
   "id": "c45eae98",
   "metadata": {},
   "outputs": [],
   "source": [
    "! python3.11 ../scripts/python/main_training.py \\\n",
    "    --config=../config/yaml_files/ellipsoids/egnn.yaml"
   ]
  },
  {
   "cell_type": "markdown",
   "id": "36f7e11b",
   "metadata": {},
   "source": [
    "#### TFN"
   ]
  },
  {
   "cell_type": "code",
   "execution_count": null,
   "id": "532c45cd",
   "metadata": {},
   "outputs": [],
   "source": [
    "! python3.11 ../scripts/python/main_training.py \\\n",
    "    --config=../config/yaml_files/ellipsoids/tfn_diameter.yaml \\\n",
    "    --invariant_pred"
   ]
  },
  {
   "cell_type": "markdown",
   "id": "bf22b7bb",
   "metadata": {},
   "source": [
    "#### GIN"
   ]
  },
  {
   "cell_type": "code",
   "execution_count": null,
   "id": "ce348b8a",
   "metadata": {},
   "outputs": [],
   "source": [
    "! python3.11 ../scripts/python/main_training.py \\\n",
    "    --config=../config/yaml_files/ellipsoids/gin.yaml"
   ]
  },
  {
   "cell_type": "markdown",
   "id": "b0c02191",
   "metadata": {},
   "source": [
    "#### GAT"
   ]
  },
  {
   "cell_type": "code",
   "execution_count": null,
   "id": "c23a8ab6",
   "metadata": {},
   "outputs": [],
   "source": [
    "! python3.11 ../scripts/python/main_training.py \\\n",
    "    --config=../config/yaml_files/ellipsoids/gat.yaml"
   ]
  },
  {
   "cell_type": "markdown",
   "id": "8c54aba1",
   "metadata": {},
   "source": [
    "#### GCN"
   ]
  },
  {
   "cell_type": "code",
   "execution_count": null,
   "id": "7170b6c6",
   "metadata": {},
   "outputs": [],
   "source": [
    "! python3.11 ../scripts/python/main_training.py \\\n",
    "    --config=../config/yaml_files/ellipsoids/gcn.yaml"
   ]
  },
  {
   "cell_type": "markdown",
   "id": "c1e74e70",
   "metadata": {},
   "source": [
    "#### LEGS"
   ]
  },
  {
   "cell_type": "code",
   "execution_count": null,
   "id": "6b43b3ed",
   "metadata": {},
   "outputs": [],
   "source": [
    "! python3.11 ../scripts/python/main_training.py \\\n",
    "    --config=../config/yaml_files/ellipsoids/legs.yaml \\\n",
    "    --use_dirac_nodes"
   ]
  },
  {
   "cell_type": "markdown",
   "id": "21081965",
   "metadata": {},
   "source": [
    "## Node regression tasks"
   ]
  },
  {
   "cell_type": "markdown",
   "id": "cc7142cd",
   "metadata": {},
   "source": [
    "### Random-harmonic modulated normals"
   ]
  },
  {
   "cell_type": "markdown",
   "id": "f5d40552",
   "metadata": {},
   "source": [
    "#### Non-equivariant model"
   ]
  },
  {
   "cell_type": "code",
   "execution_count": null,
   "id": "09058b5a",
   "metadata": {},
   "outputs": [],
   "source": [
    "! python3.11 ../scripts/python/main_training.py \\\n",
    "    --config=../config/yaml_files/ellipsoids/escgnn.yaml \\\n",
    "    --task_key=vector_node_regression \\\n",
    "    --target_key=y_random_harmonic_normals \\\n",
    "    --target_dim=3 \\\n",
    "    --use_dirac_nodes \\\n",
    "    --ablate_vector_track"
   ]
  },
  {
   "cell_type": "markdown",
   "id": "23f724eb",
   "metadata": {},
   "source": [
    "#### Equivariant model"
   ]
  },
  {
   "cell_type": "code",
   "execution_count": null,
   "id": "d21bb020",
   "metadata": {},
   "outputs": [],
   "source": [
    "! python3.11 ../scripts/python/main_training.py \\\n",
    "    --config=../config/yaml_files/ellipsoids/escgnn.yaml \\\n",
    "    --task_key=vector_node_regression \\\n",
    "    --target_key=y_random_harmonic_normals \\\n",
    "    --target_dim=3 \\\n",
    "    --scalar_feat_key x \\\n",
    "    --use_dirac_nodes"
   ]
  },
  {
   "cell_type": "markdown",
   "id": "2d30b002",
   "metadata": {},
   "source": [
    "#### EGNN"
   ]
  },
  {
   "cell_type": "code",
   "execution_count": null,
   "id": "c26669c0",
   "metadata": {},
   "outputs": [],
   "source": [
    "! python3.11 ../scripts/python/main_training.py \\\n",
    "    --config=../config/yaml_files/ellipsoids/egnn.yaml \\\n",
    "    --task_key=vector_node_regression \\\n",
    "    --target_key=y_random_harmonic_normals \\\n",
    "    --target_dim=3"
   ]
  },
  {
   "cell_type": "markdown",
   "id": "d7e5f977",
   "metadata": {},
   "source": [
    "#### LEGS"
   ]
  },
  {
   "cell_type": "code",
   "execution_count": null,
   "id": "f6e00dfd",
   "metadata": {},
   "outputs": [],
   "source": [
    "! python3.11 ../scripts/python/main_training.py \\\n",
    "    --config=../config/yaml_files/ellipsoids/legs.yaml \\\n",
    "    --task_key=vector_node_regression \\\n",
    "    --target_key=y_random_harmonic_normals \\\n",
    "    --target_dim=3 \\\n",
    "    --use_dirac_nodes"
   ]
  },
  {
   "cell_type": "markdown",
   "id": "86358294",
   "metadata": {},
   "source": [
    "#### GIN"
   ]
  },
  {
   "cell_type": "code",
   "execution_count": null,
   "id": "73872f1b",
   "metadata": {},
   "outputs": [],
   "source": [
    "! python3.11 ../scripts/python/main_training.py \\\n",
    "    --config=../config/yaml_files/ellipsoids/gin.yaml \\\n",
    "    --task_key=vector_node_regression \\\n",
    "    --target_key=y_random_harmonic_normals \\\n",
    "    --target_dim=3"
   ]
  },
  {
   "cell_type": "markdown",
   "id": "e90a1d34",
   "metadata": {},
   "source": [
    "#### GCN"
   ]
  },
  {
   "cell_type": "code",
   "execution_count": null,
   "id": "fea58769",
   "metadata": {},
   "outputs": [],
   "source": [
    "! python3.11 ../scripts/python/main_training.py \\\n",
    "    --config=../config/yaml_files/ellipsoids/gcn.yaml \\\n",
    "    --task_key=vector_node_regression \\\n",
    "    --target_key=y_random_harmonic_normals \\\n",
    "    --target_dim=3"
   ]
  },
  {
   "cell_type": "markdown",
   "id": "3554d151",
   "metadata": {},
   "source": [
    "#### GAT"
   ]
  },
  {
   "cell_type": "code",
   "execution_count": null,
   "id": "5bed236b",
   "metadata": {},
   "outputs": [],
   "source": [
    "! python3.11 ../scripts/python/main_training.py \\\n",
    "    --config=../config/yaml_files/ellipsoids/gat.yaml \\\n",
    "    --task_key=vector_node_regression \\\n",
    "    --target_key=y_random_harmonic_normals \\\n",
    "    --target_dim=3"
   ]
  },
  {
   "cell_type": "markdown",
   "id": "ec566934",
   "metadata": {},
   "source": [
    "#### TFN"
   ]
  },
  {
   "cell_type": "code",
   "execution_count": null,
   "id": "4dc40bb3",
   "metadata": {},
   "outputs": [],
   "source": [
    "! python3.11 ../scripts/python/main_training.py \\\n",
    "    --config=../config/yaml_files/ellipsoids/tfn_normals.yaml"
   ]
  }
 ],
 "metadata": {
  "kernelspec": {
   "display_name": "Python 3",
   "language": "python",
   "name": "python3"
  },
  "language_info": {
   "codemirror_mode": {
    "name": "ipython",
    "version": 3
   },
   "file_extension": ".py",
   "mimetype": "text/x-python",
   "name": "python",
   "nbconvert_exporter": "python",
   "pygments_lexer": "ipython3",
   "version": "3.11.9"
  }
 },
 "nbformat": 4,
 "nbformat_minor": 5
}
